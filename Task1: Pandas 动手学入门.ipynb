{
 "cells": [
  {
   "cell_type": "markdown",
   "id": "f28bf08a",
   "metadata": {},
   "source": [
    "# Pandas 动手学入门\n",
    "本课程基于[DataWhale开源教程《Joyful-Pandas》](http://joyfulpandas.datawhale.club/index.html)与[开源项目 ajcr/100-pandas-puzzles](https://github.com/ajcr/100-pandas-puzzles)其[中译版](https://github.com/VXenomac/100-pandas-puzzles-cn)开发. 在数据分析的实践中，Pandas是一个非常重要的库，它集成了非常多的统计分析功能，[《Joyful-Pandas》](http://joyfulpandas.datawhale.club/index.html)是一份非常详尽，并且适合新手的Pandas中文教程，同时它也是Pandas官方认证的中文教程！但笔者学习过程中，始终觉得编程学习“纸上得来终觉浅”，对于刚接触一个新的库的“躬行”笔者认为最好的方式就是对照着官方文档以及QuickStart吧例子自己尝试一遍，并且在实践中学会如何查文档，这是一个开发者必备的技能.因此本教程就是基于这样的思想，给出对应的操作以及对应的文档地址，学习者需要自行查阅文档，完成下面的实践."
   ]
  },
  {
   "cell_type": "markdown",
   "id": "65651134",
   "metadata": {
    "ExecuteTime": {
     "end_time": "2022-07-04T02:13:00.577686Z",
     "start_time": "2022-07-04T02:13:00.565707Z"
    }
   },
   "source": [
    "## 餐前准备\n",
    "在这部分中，我们主要学习如何导入Pandas以及查看版本信息，难度是比较简单的.\n",
    "> 请你阅读Joyful-Pandas第二章，完成下方练习.\n",
    "http://joyfulpandas.datawhale.club/Content/ch2.html"
   ]
  },
  {
   "cell_type": "markdown",
   "id": "a7b19b9c",
   "metadata": {},
   "source": [
    "**1.** 以 `pd` 别名导入 pandas 库"
   ]
  },
  {
   "cell_type": "code",
   "execution_count": 1,
   "id": "04703136",
   "metadata": {},
   "outputs": [],
   "source": [
    "import pandas as pd"
   ]
  },
  {
   "cell_type": "markdown",
   "id": "45f8afb1",
   "metadata": {},
   "source": [
    "**2.** 打印出pandas 库的版本信息"
   ]
  },
  {
   "cell_type": "code",
   "execution_count": 3,
   "id": "9add1264",
   "metadata": {},
   "outputs": [
    {
     "name": "stdout",
     "output_type": "stream",
     "text": [
      "1.3.2\n"
     ]
    }
   ],
   "source": [
    "print(pd.__version__)"
   ]
  },
  {
   "cell_type": "markdown",
   "id": "dcc1b82a",
   "metadata": {},
   "source": [
    "**3.** 打印 pandas 依赖包及其版本信息"
   ]
  },
  {
   "cell_type": "code",
   "execution_count": 10,
   "id": "2dbd4977",
   "metadata": {
    "collapsed": true,
    "jupyter": {
     "outputs_hidden": true
    },
    "tags": []
   },
   "outputs": [
    {
     "name": "stdout",
     "output_type": "stream",
     "text": [
      "\n",
      "INSTALLED VERSIONS\n",
      "------------------\n",
      "commit           : 5f648bf1706dd75a9ca0d29f26eadfbb595fe52b\n",
      "python           : 3.7.11.final.0\n",
      "python-bits      : 64\n",
      "OS               : Windows\n",
      "OS-release       : 10\n",
      "Version          : 10.0.19041\n",
      "machine          : AMD64\n",
      "processor        : AMD64 Family 25 Model 80 Stepping 0, AuthenticAMD\n",
      "byteorder        : little\n",
      "LC_ALL           : None\n",
      "LANG             : None\n",
      "LOCALE           : None.None\n",
      "\n",
      "pandas           : 1.3.2\n",
      "numpy            : 1.20.3\n",
      "pytz             : 2021.1\n",
      "dateutil         : 2.8.2\n",
      "pip              : 21.0.1\n",
      "setuptools       : 52.0.0.post20210125\n",
      "Cython           : 0.29.24\n",
      "pytest           : None\n",
      "hypothesis       : None\n",
      "sphinx           : None\n",
      "blosc            : None\n",
      "feather          : None\n",
      "xlsxwriter       : None\n",
      "lxml.etree       : 4.6.3\n",
      "html5lib         : None\n",
      "pymysql          : 1.0.2\n",
      "psycopg2         : None\n",
      "jinja2           : 3.0.1\n",
      "IPython          : 7.26.0\n",
      "pandas_datareader: None\n",
      "bs4              : None\n",
      "bottleneck       : 1.3.2\n",
      "fsspec           : None\n",
      "fastparquet      : None\n",
      "gcsfs            : None\n",
      "matplotlib       : 3.4.2\n",
      "numexpr          : 2.7.3\n",
      "odfpy            : None\n",
      "openpyxl         : 3.0.7\n",
      "pandas_gbq       : None\n",
      "pyarrow          : 5.0.0\n",
      "pyxlsb           : None\n",
      "s3fs             : None\n",
      "scipy            : 1.7.1\n",
      "sqlalchemy       : 1.4.22\n",
      "tables           : None\n",
      "tabulate         : None\n",
      "xarray           : 0.19.0\n",
      "xlrd             : 2.0.1\n",
      "xlwt             : None\n",
      "numba            : None\n",
      "None\n"
     ]
    }
   ],
   "source": [
    "print(pd.show_versions())"
   ]
  },
  {
   "cell_type": "markdown",
   "id": "20e638dc",
   "metadata": {},
   "source": [
    "## 备齐食材\n",
    "在这部分中，主要介绍了Pandas一个重要的数据结构```DataFrame```\n",
    "\n",
    "> 请你阅读Joyful-Pandas第二章，完成下方练习.\n",
    "http://joyfulpandas.datawhale.club/Content/ch2.html"
   ]
  },
  {
   "cell_type": "markdown",
   "id": "97d3458d",
   "metadata": {},
   "source": [
    "**4.** 使用数据 `data` 和行索引 `labels` 创建一个 DataFrame `df` "
   ]
  },
  {
   "cell_type": "code",
   "execution_count": 11,
   "id": "5e1a5b47",
   "metadata": {
    "ExecuteTime": {
     "end_time": "2022-07-04T02:26:07.001361Z",
     "start_time": "2022-07-04T02:26:04.844331Z"
    }
   },
   "outputs": [],
   "source": [
    "import numpy as np"
   ]
  },
  {
   "cell_type": "markdown",
   "id": "c0e120d5",
   "metadata": {},
   "source": [
    "有下面这样的一个数据字典 `data` 以及列表格式的标签数据 `labels`:"
   ]
  },
  {
   "cell_type": "code",
   "execution_count": 12,
   "id": "b11325e2",
   "metadata": {
    "ExecuteTime": {
     "end_time": "2022-07-05T08:08:01.777421Z",
     "start_time": "2022-07-05T08:08:01.766786Z"
    }
   },
   "outputs": [],
   "source": [
    "data = {'animal': ['cat', 'cat', 'snake', 'dog', 'dog', 'cat', 'snake', 'cat', 'dog', 'dog'],\n",
    "        'age': [2.5, 3, 0.5, np.nan, 5, 2, 4.5, np.nan, 7, 3],\n",
    "        'visits': [1, 3, 2, 3, 2, 3, 1, 1, 2, 1],\n",
    "        'priority': ['yes', 'yes', 'no', 'yes', 'no', 'no', 'no', 'yes', 'no', 'no']}\n",
    "\n",
    "labels = ['a', 'b', 'c', 'd', 'e', 'f', 'g', 'h', 'i', 'j']"
   ]
  },
  {
   "cell_type": "code",
   "execution_count": 19,
   "id": "c483dec9",
   "metadata": {},
   "outputs": [],
   "source": [
    "df = pd.DataFrame(data=data, index=labels)"
   ]
  },
  {
   "cell_type": "markdown",
   "id": "8c8af260",
   "metadata": {
    "ExecuteTime": {
     "end_time": "2022-07-04T02:27:42.594136Z",
     "start_time": "2022-07-04T02:27:42.580166Z"
    }
   },
   "source": [
    "**5.** 显示该 DataFrame 及其数据相关的基本信息（*提示：DataFrame 直接调用的方法*）"
   ]
  },
  {
   "cell_type": "code",
   "execution_count": 20,
   "id": "e38e961a",
   "metadata": {},
   "outputs": [
    {
     "name": "stdout",
     "output_type": "stream",
     "text": [
      "<class 'pandas.core.frame.DataFrame'>\n",
      "Index: 10 entries, a to j\n",
      "Data columns (total 4 columns):\n",
      " #   Column    Non-Null Count  Dtype  \n",
      "---  ------    --------------  -----  \n",
      " 0   animal    10 non-null     object \n",
      " 1   age       8 non-null      float64\n",
      " 2   visits    10 non-null     int64  \n",
      " 3   priority  10 non-null     object \n",
      "dtypes: float64(1), int64(1), object(2)\n",
      "memory usage: 400.0+ bytes\n"
     ]
    }
   ],
   "source": [
    "df.info()"
   ]
  },
  {
   "cell_type": "markdown",
   "id": "408c64e5",
   "metadata": {},
   "source": [
    "**6.** 返回 DataFrame `df` 的前4行数据"
   ]
  },
  {
   "cell_type": "code",
   "execution_count": 21,
   "id": "1c216d33",
   "metadata": {},
   "outputs": [
    {
     "data": {
      "text/html": [
       "<div>\n",
       "<style scoped>\n",
       "    .dataframe tbody tr th:only-of-type {\n",
       "        vertical-align: middle;\n",
       "    }\n",
       "\n",
       "    .dataframe tbody tr th {\n",
       "        vertical-align: top;\n",
       "    }\n",
       "\n",
       "    .dataframe thead th {\n",
       "        text-align: right;\n",
       "    }\n",
       "</style>\n",
       "<table border=\"1\" class=\"dataframe\">\n",
       "  <thead>\n",
       "    <tr style=\"text-align: right;\">\n",
       "      <th></th>\n",
       "      <th>animal</th>\n",
       "      <th>age</th>\n",
       "      <th>visits</th>\n",
       "      <th>priority</th>\n",
       "    </tr>\n",
       "  </thead>\n",
       "  <tbody>\n",
       "    <tr>\n",
       "      <th>a</th>\n",
       "      <td>cat</td>\n",
       "      <td>2.5</td>\n",
       "      <td>1</td>\n",
       "      <td>yes</td>\n",
       "    </tr>\n",
       "    <tr>\n",
       "      <th>b</th>\n",
       "      <td>cat</td>\n",
       "      <td>3.0</td>\n",
       "      <td>3</td>\n",
       "      <td>yes</td>\n",
       "    </tr>\n",
       "    <tr>\n",
       "      <th>c</th>\n",
       "      <td>snake</td>\n",
       "      <td>0.5</td>\n",
       "      <td>2</td>\n",
       "      <td>no</td>\n",
       "    </tr>\n",
       "    <tr>\n",
       "      <th>d</th>\n",
       "      <td>dog</td>\n",
       "      <td>NaN</td>\n",
       "      <td>3</td>\n",
       "      <td>yes</td>\n",
       "    </tr>\n",
       "  </tbody>\n",
       "</table>\n",
       "</div>"
      ],
      "text/plain": [
       "  animal  age  visits priority\n",
       "a    cat  2.5       1      yes\n",
       "b    cat  3.0       3      yes\n",
       "c  snake  0.5       2       no\n",
       "d    dog  NaN       3      yes"
      ]
     },
     "execution_count": 21,
     "metadata": {},
     "output_type": "execute_result"
    }
   ],
   "source": [
    "df.head(4)"
   ]
  },
  {
   "cell_type": "markdown",
   "id": "b177dd6c",
   "metadata": {},
   "source": [
    "**7.** 从 DataFrame `df` 选择标签为 `animal` 和 `age` 的列"
   ]
  },
  {
   "cell_type": "code",
   "execution_count": 23,
   "id": "e2a8cbac",
   "metadata": {
    "collapsed": true,
    "jupyter": {
     "outputs_hidden": true
    },
    "tags": []
   },
   "outputs": [
    {
     "data": {
      "text/html": [
       "<div>\n",
       "<style scoped>\n",
       "    .dataframe tbody tr th:only-of-type {\n",
       "        vertical-align: middle;\n",
       "    }\n",
       "\n",
       "    .dataframe tbody tr th {\n",
       "        vertical-align: top;\n",
       "    }\n",
       "\n",
       "    .dataframe thead th {\n",
       "        text-align: right;\n",
       "    }\n",
       "</style>\n",
       "<table border=\"1\" class=\"dataframe\">\n",
       "  <thead>\n",
       "    <tr style=\"text-align: right;\">\n",
       "      <th></th>\n",
       "      <th>animal</th>\n",
       "      <th>age</th>\n",
       "    </tr>\n",
       "  </thead>\n",
       "  <tbody>\n",
       "    <tr>\n",
       "      <th>a</th>\n",
       "      <td>cat</td>\n",
       "      <td>2.5</td>\n",
       "    </tr>\n",
       "    <tr>\n",
       "      <th>b</th>\n",
       "      <td>cat</td>\n",
       "      <td>3.0</td>\n",
       "    </tr>\n",
       "    <tr>\n",
       "      <th>c</th>\n",
       "      <td>snake</td>\n",
       "      <td>0.5</td>\n",
       "    </tr>\n",
       "    <tr>\n",
       "      <th>d</th>\n",
       "      <td>dog</td>\n",
       "      <td>NaN</td>\n",
       "    </tr>\n",
       "    <tr>\n",
       "      <th>e</th>\n",
       "      <td>dog</td>\n",
       "      <td>5.0</td>\n",
       "    </tr>\n",
       "    <tr>\n",
       "      <th>f</th>\n",
       "      <td>cat</td>\n",
       "      <td>2.0</td>\n",
       "    </tr>\n",
       "    <tr>\n",
       "      <th>g</th>\n",
       "      <td>snake</td>\n",
       "      <td>4.5</td>\n",
       "    </tr>\n",
       "    <tr>\n",
       "      <th>h</th>\n",
       "      <td>cat</td>\n",
       "      <td>NaN</td>\n",
       "    </tr>\n",
       "    <tr>\n",
       "      <th>i</th>\n",
       "      <td>dog</td>\n",
       "      <td>7.0</td>\n",
       "    </tr>\n",
       "    <tr>\n",
       "      <th>j</th>\n",
       "      <td>dog</td>\n",
       "      <td>3.0</td>\n",
       "    </tr>\n",
       "  </tbody>\n",
       "</table>\n",
       "</div>"
      ],
      "text/plain": [
       "  animal  age\n",
       "a    cat  2.5\n",
       "b    cat  3.0\n",
       "c  snake  0.5\n",
       "d    dog  NaN\n",
       "e    dog  5.0\n",
       "f    cat  2.0\n",
       "g  snake  4.5\n",
       "h    cat  NaN\n",
       "i    dog  7.0\n",
       "j    dog  3.0"
      ]
     },
     "execution_count": 23,
     "metadata": {},
     "output_type": "execute_result"
    }
   ],
   "source": [
    "# 第一种方式\n",
    "df[['animal', 'age']]\n",
    "\n",
    "# 第二种方式\n",
    "df.loc[:, ['animal', 'age']]"
   ]
  },
  {
   "cell_type": "markdown",
   "id": "4a34f4ce",
   "metadata": {},
   "source": [
    "**8.** 在 `[3, 4, 8]` 行中，列为 `['animal', 'age']` 的数据"
   ]
  },
  {
   "cell_type": "code",
   "execution_count": 29,
   "id": "ac73b9a4",
   "metadata": {},
   "outputs": [
    {
     "data": {
      "text/html": [
       "<div>\n",
       "<style scoped>\n",
       "    .dataframe tbody tr th:only-of-type {\n",
       "        vertical-align: middle;\n",
       "    }\n",
       "\n",
       "    .dataframe tbody tr th {\n",
       "        vertical-align: top;\n",
       "    }\n",
       "\n",
       "    .dataframe thead th {\n",
       "        text-align: right;\n",
       "    }\n",
       "</style>\n",
       "<table border=\"1\" class=\"dataframe\">\n",
       "  <thead>\n",
       "    <tr style=\"text-align: right;\">\n",
       "      <th></th>\n",
       "      <th>animal</th>\n",
       "      <th>age</th>\n",
       "    </tr>\n",
       "  </thead>\n",
       "  <tbody>\n",
       "    <tr>\n",
       "      <th>d</th>\n",
       "      <td>dog</td>\n",
       "      <td>NaN</td>\n",
       "    </tr>\n",
       "    <tr>\n",
       "      <th>e</th>\n",
       "      <td>dog</td>\n",
       "      <td>5.0</td>\n",
       "    </tr>\n",
       "    <tr>\n",
       "      <th>i</th>\n",
       "      <td>dog</td>\n",
       "      <td>7.0</td>\n",
       "    </tr>\n",
       "  </tbody>\n",
       "</table>\n",
       "</div>"
      ],
      "text/plain": [
       "  animal  age\n",
       "d    dog  NaN\n",
       "e    dog  5.0\n",
       "i    dog  7.0"
      ]
     },
     "execution_count": 29,
     "metadata": {},
     "output_type": "execute_result"
    }
   ],
   "source": [
    "# 第一种方式：loc\n",
    "ind = [labels[i] for i in [3, 4, 8]]\n",
    "col = ['animal', 'age']\n",
    "df.loc[ind, col]\n",
    "\n",
    "# 第二种方式：iloc\n",
    "ind = [3, 4, 8]\n",
    "col = [0, 1]\n",
    "df.iloc[ind, col]"
   ]
  },
  {
   "cell_type": "markdown",
   "id": "706b424a",
   "metadata": {
    "ExecuteTime": {
     "end_time": "2022-07-04T02:31:39.363220Z",
     "start_time": "2022-07-04T02:31:39.351331Z"
    }
   },
   "source": [
    "**9.** 选择列```visits``` 大于 3 的行"
   ]
  },
  {
   "cell_type": "code",
   "execution_count": 33,
   "id": "4f75946c",
   "metadata": {},
   "outputs": [
    {
     "data": {
      "text/html": [
       "<div>\n",
       "<style scoped>\n",
       "    .dataframe tbody tr th:only-of-type {\n",
       "        vertical-align: middle;\n",
       "    }\n",
       "\n",
       "    .dataframe tbody tr th {\n",
       "        vertical-align: top;\n",
       "    }\n",
       "\n",
       "    .dataframe thead th {\n",
       "        text-align: right;\n",
       "    }\n",
       "</style>\n",
       "<table border=\"1\" class=\"dataframe\">\n",
       "  <thead>\n",
       "    <tr style=\"text-align: right;\">\n",
       "      <th></th>\n",
       "      <th>animal</th>\n",
       "      <th>age</th>\n",
       "      <th>visits</th>\n",
       "      <th>priority</th>\n",
       "    </tr>\n",
       "  </thead>\n",
       "  <tbody>\n",
       "  </tbody>\n",
       "</table>\n",
       "</div>"
      ],
      "text/plain": [
       "Empty DataFrame\n",
       "Columns: [animal, age, visits, priority]\n",
       "Index: []"
      ]
     },
     "execution_count": 33,
     "metadata": {},
     "output_type": "execute_result"
    }
   ],
   "source": [
    "df[df['visits'] > 3]"
   ]
  },
  {
   "cell_type": "markdown",
   "id": "60d1d20f",
   "metadata": {},
   "source": [
    "**10.** 选择 `age` 为缺失值的行"
   ]
  },
  {
   "cell_type": "code",
   "execution_count": 35,
   "id": "4d94b1c0",
   "metadata": {},
   "outputs": [
    {
     "data": {
      "text/html": [
       "<div>\n",
       "<style scoped>\n",
       "    .dataframe tbody tr th:only-of-type {\n",
       "        vertical-align: middle;\n",
       "    }\n",
       "\n",
       "    .dataframe tbody tr th {\n",
       "        vertical-align: top;\n",
       "    }\n",
       "\n",
       "    .dataframe thead th {\n",
       "        text-align: right;\n",
       "    }\n",
       "</style>\n",
       "<table border=\"1\" class=\"dataframe\">\n",
       "  <thead>\n",
       "    <tr style=\"text-align: right;\">\n",
       "      <th></th>\n",
       "      <th>animal</th>\n",
       "      <th>age</th>\n",
       "      <th>visits</th>\n",
       "      <th>priority</th>\n",
       "    </tr>\n",
       "  </thead>\n",
       "  <tbody>\n",
       "    <tr>\n",
       "      <th>d</th>\n",
       "      <td>dog</td>\n",
       "      <td>NaN</td>\n",
       "      <td>3</td>\n",
       "      <td>yes</td>\n",
       "    </tr>\n",
       "    <tr>\n",
       "      <th>h</th>\n",
       "      <td>cat</td>\n",
       "      <td>NaN</td>\n",
       "      <td>1</td>\n",
       "      <td>yes</td>\n",
       "    </tr>\n",
       "  </tbody>\n",
       "</table>\n",
       "</div>"
      ],
      "text/plain": [
       "  animal  age  visits priority\n",
       "d    dog  NaN       3      yes\n",
       "h    cat  NaN       1      yes"
      ]
     },
     "execution_count": 35,
     "metadata": {},
     "output_type": "execute_result"
    }
   ],
   "source": [
    "df[df['age'].isnull()]"
   ]
  },
  {
   "cell_type": "markdown",
   "id": "96f3bc7c",
   "metadata": {},
   "source": [
    "**11.** 选择 `animal` 是cat且`age` 小于 3 的行"
   ]
  },
  {
   "cell_type": "code",
   "execution_count": 36,
   "id": "a2adc900",
   "metadata": {},
   "outputs": [
    {
     "data": {
      "text/html": [
       "<div>\n",
       "<style scoped>\n",
       "    .dataframe tbody tr th:only-of-type {\n",
       "        vertical-align: middle;\n",
       "    }\n",
       "\n",
       "    .dataframe tbody tr th {\n",
       "        vertical-align: top;\n",
       "    }\n",
       "\n",
       "    .dataframe thead th {\n",
       "        text-align: right;\n",
       "    }\n",
       "</style>\n",
       "<table border=\"1\" class=\"dataframe\">\n",
       "  <thead>\n",
       "    <tr style=\"text-align: right;\">\n",
       "      <th></th>\n",
       "      <th>animal</th>\n",
       "      <th>age</th>\n",
       "      <th>visits</th>\n",
       "      <th>priority</th>\n",
       "    </tr>\n",
       "  </thead>\n",
       "  <tbody>\n",
       "    <tr>\n",
       "      <th>a</th>\n",
       "      <td>cat</td>\n",
       "      <td>2.5</td>\n",
       "      <td>1</td>\n",
       "      <td>yes</td>\n",
       "    </tr>\n",
       "    <tr>\n",
       "      <th>f</th>\n",
       "      <td>cat</td>\n",
       "      <td>2.0</td>\n",
       "      <td>3</td>\n",
       "      <td>no</td>\n",
       "    </tr>\n",
       "  </tbody>\n",
       "</table>\n",
       "</div>"
      ],
      "text/plain": [
       "  animal  age  visits priority\n",
       "a    cat  2.5       1      yes\n",
       "f    cat  2.0       3       no"
      ]
     },
     "execution_count": 36,
     "metadata": {},
     "output_type": "execute_result"
    }
   ],
   "source": [
    "df[(df['animal'] == 'cat') & (df['age'] < 3)]"
   ]
  },
  {
   "cell_type": "markdown",
   "id": "39c7939e",
   "metadata": {},
   "source": [
    "**12.** 选择 `age` 在 2 到 4 之间的数据（包含边界值）"
   ]
  },
  {
   "cell_type": "code",
   "execution_count": 48,
   "id": "5dc70baf",
   "metadata": {},
   "outputs": [
    {
     "data": {
      "text/html": [
       "<div>\n",
       "<style scoped>\n",
       "    .dataframe tbody tr th:only-of-type {\n",
       "        vertical-align: middle;\n",
       "    }\n",
       "\n",
       "    .dataframe tbody tr th {\n",
       "        vertical-align: top;\n",
       "    }\n",
       "\n",
       "    .dataframe thead th {\n",
       "        text-align: right;\n",
       "    }\n",
       "</style>\n",
       "<table border=\"1\" class=\"dataframe\">\n",
       "  <thead>\n",
       "    <tr style=\"text-align: right;\">\n",
       "      <th></th>\n",
       "      <th>animal</th>\n",
       "      <th>age</th>\n",
       "      <th>visits</th>\n",
       "      <th>priority</th>\n",
       "    </tr>\n",
       "  </thead>\n",
       "  <tbody>\n",
       "    <tr>\n",
       "      <th>a</th>\n",
       "      <td>cat</td>\n",
       "      <td>2.5</td>\n",
       "      <td>1</td>\n",
       "      <td>yes</td>\n",
       "    </tr>\n",
       "    <tr>\n",
       "      <th>b</th>\n",
       "      <td>cat</td>\n",
       "      <td>3.0</td>\n",
       "      <td>3</td>\n",
       "      <td>yes</td>\n",
       "    </tr>\n",
       "    <tr>\n",
       "      <th>f</th>\n",
       "      <td>cat</td>\n",
       "      <td>2.0</td>\n",
       "      <td>3</td>\n",
       "      <td>no</td>\n",
       "    </tr>\n",
       "    <tr>\n",
       "      <th>j</th>\n",
       "      <td>dog</td>\n",
       "      <td>3.0</td>\n",
       "      <td>1</td>\n",
       "      <td>no</td>\n",
       "    </tr>\n",
       "  </tbody>\n",
       "</table>\n",
       "</div>"
      ],
      "text/plain": [
       "  animal  age  visits priority\n",
       "a    cat  2.5       1      yes\n",
       "b    cat  3.0       3      yes\n",
       "f    cat  2.0       3       no\n",
       "j    dog  3.0       1       no"
      ]
     },
     "execution_count": 48,
     "metadata": {},
     "output_type": "execute_result"
    }
   ],
   "source": [
    "# 第一种\n",
    "df[(df['age'] >= 2)&(df['age'] <= 4)]\n",
    "\n",
    "# 第二种\n",
    "df[df['age'].apply(lambda x: 2 <= x <= 4)]"
   ]
  },
  {
   "cell_type": "markdown",
   "id": "59a7e3b1",
   "metadata": {},
   "source": [
    "**13.** 将 'f' 行的 `age` 改为 1.5"
   ]
  },
  {
   "cell_type": "code",
   "execution_count": 56,
   "id": "17ea3445",
   "metadata": {},
   "outputs": [],
   "source": [
    "df.loc['f', 'age'] = 1.5"
   ]
  },
  {
   "cell_type": "markdown",
   "id": "88a13e7b",
   "metadata": {},
   "source": [
    "**14.** 对 `visits` 列的数据求和"
   ]
  },
  {
   "cell_type": "code",
   "execution_count": 58,
   "id": "15525bb6",
   "metadata": {},
   "outputs": [
    {
     "data": {
      "text/plain": [
       "19"
      ]
     },
     "execution_count": 58,
     "metadata": {},
     "output_type": "execute_result"
    }
   ],
   "source": [
    "df['visits'].sum()"
   ]
  },
  {
   "cell_type": "markdown",
   "id": "147f224e",
   "metadata": {},
   "source": [
    "**15.** 计算每种 `animal` `age` 的平均值"
   ]
  },
  {
   "cell_type": "code",
   "execution_count": 60,
   "id": "3b1dfc22",
   "metadata": {},
   "outputs": [
    {
     "data": {
      "text/plain": [
       "animal\n",
       "cat      2.333333\n",
       "dog      5.000000\n",
       "snake    2.500000\n",
       "Name: age, dtype: float64"
      ]
     },
     "execution_count": 60,
     "metadata": {},
     "output_type": "execute_result"
    }
   ],
   "source": [
    "df.groupby(by=['animal'])['age'].mean()"
   ]
  },
  {
   "cell_type": "markdown",
   "id": "4ecca615",
   "metadata": {
    "ExecuteTime": {
     "end_time": "2022-07-04T02:42:00.733762Z",
     "start_time": "2022-07-04T02:42:00.726808Z"
    }
   },
   "source": [
    "**16.** 新增一行数据 k，数据自定义，然后再删除新追加的 k 行"
   ]
  },
  {
   "cell_type": "code",
   "execution_count": 67,
   "id": "729febdc",
   "metadata": {},
   "outputs": [
    {
     "data": {
      "text/html": [
       "<div>\n",
       "<style scoped>\n",
       "    .dataframe tbody tr th:only-of-type {\n",
       "        vertical-align: middle;\n",
       "    }\n",
       "\n",
       "    .dataframe tbody tr th {\n",
       "        vertical-align: top;\n",
       "    }\n",
       "\n",
       "    .dataframe thead th {\n",
       "        text-align: right;\n",
       "    }\n",
       "</style>\n",
       "<table border=\"1\" class=\"dataframe\">\n",
       "  <thead>\n",
       "    <tr style=\"text-align: right;\">\n",
       "      <th></th>\n",
       "      <th>animal</th>\n",
       "      <th>age</th>\n",
       "      <th>visits</th>\n",
       "      <th>priority</th>\n",
       "    </tr>\n",
       "  </thead>\n",
       "  <tbody>\n",
       "    <tr>\n",
       "      <th>a</th>\n",
       "      <td>cat</td>\n",
       "      <td>2.5</td>\n",
       "      <td>1</td>\n",
       "      <td>yes</td>\n",
       "    </tr>\n",
       "    <tr>\n",
       "      <th>b</th>\n",
       "      <td>cat</td>\n",
       "      <td>3.0</td>\n",
       "      <td>3</td>\n",
       "      <td>yes</td>\n",
       "    </tr>\n",
       "    <tr>\n",
       "      <th>c</th>\n",
       "      <td>snake</td>\n",
       "      <td>0.5</td>\n",
       "      <td>2</td>\n",
       "      <td>no</td>\n",
       "    </tr>\n",
       "    <tr>\n",
       "      <th>d</th>\n",
       "      <td>dog</td>\n",
       "      <td>NaN</td>\n",
       "      <td>3</td>\n",
       "      <td>yes</td>\n",
       "    </tr>\n",
       "    <tr>\n",
       "      <th>e</th>\n",
       "      <td>dog</td>\n",
       "      <td>5.0</td>\n",
       "      <td>2</td>\n",
       "      <td>no</td>\n",
       "    </tr>\n",
       "    <tr>\n",
       "      <th>f</th>\n",
       "      <td>cat</td>\n",
       "      <td>1.5</td>\n",
       "      <td>3</td>\n",
       "      <td>no</td>\n",
       "    </tr>\n",
       "    <tr>\n",
       "      <th>g</th>\n",
       "      <td>snake</td>\n",
       "      <td>4.5</td>\n",
       "      <td>1</td>\n",
       "      <td>no</td>\n",
       "    </tr>\n",
       "    <tr>\n",
       "      <th>h</th>\n",
       "      <td>cat</td>\n",
       "      <td>NaN</td>\n",
       "      <td>1</td>\n",
       "      <td>yes</td>\n",
       "    </tr>\n",
       "    <tr>\n",
       "      <th>i</th>\n",
       "      <td>dog</td>\n",
       "      <td>7.0</td>\n",
       "      <td>2</td>\n",
       "      <td>no</td>\n",
       "    </tr>\n",
       "    <tr>\n",
       "      <th>j</th>\n",
       "      <td>dog</td>\n",
       "      <td>3.0</td>\n",
       "      <td>1</td>\n",
       "      <td>no</td>\n",
       "    </tr>\n",
       "    <tr>\n",
       "      <th>k</th>\n",
       "      <td>cat</td>\n",
       "      <td>2.5</td>\n",
       "      <td>1</td>\n",
       "      <td>yes</td>\n",
       "    </tr>\n",
       "  </tbody>\n",
       "</table>\n",
       "</div>"
      ],
      "text/plain": [
       "  animal  age  visits priority\n",
       "a    cat  2.5       1      yes\n",
       "b    cat  3.0       3      yes\n",
       "c  snake  0.5       2       no\n",
       "d    dog  NaN       3      yes\n",
       "e    dog  5.0       2       no\n",
       "f    cat  1.5       3       no\n",
       "g  snake  4.5       1       no\n",
       "h    cat  NaN       1      yes\n",
       "i    dog  7.0       2       no\n",
       "j    dog  3.0       1       no\n",
       "k    cat  2.5       1      yes"
      ]
     },
     "execution_count": 67,
     "metadata": {},
     "output_type": "execute_result"
    }
   ],
   "source": [
    "tmp = pd.DataFrame(data=[['cat', 2.5, 1, 'yes']], columns=df.columns, index=['k'])\n",
    "pd.concat([df, tmp], axis=0)"
   ]
  },
  {
   "cell_type": "markdown",
   "id": "8724480d",
   "metadata": {},
   "source": [
    "**17.** 统计每种 `animal` 的个数"
   ]
  },
  {
   "cell_type": "code",
   "execution_count": 68,
   "id": "066b3247",
   "metadata": {},
   "outputs": [
    {
     "data": {
      "text/plain": [
       "cat      4\n",
       "dog      4\n",
       "snake    2\n",
       "Name: animal, dtype: int64"
      ]
     },
     "execution_count": 68,
     "metadata": {},
     "output_type": "execute_result"
    }
   ],
   "source": [
    "df['animal'].value_counts()"
   ]
  },
  {
   "cell_type": "markdown",
   "id": "5f948fa7",
   "metadata": {},
   "source": [
    "**18.** 先根据 `age` 降序排列，再根据 `visits` 升序排列（结果 `i` 列在前面，`d` 列在最后面）"
   ]
  },
  {
   "cell_type": "code",
   "execution_count": 73,
   "id": "e305cfb7",
   "metadata": {},
   "outputs": [
    {
     "data": {
      "text/html": [
       "<div>\n",
       "<style scoped>\n",
       "    .dataframe tbody tr th:only-of-type {\n",
       "        vertical-align: middle;\n",
       "    }\n",
       "\n",
       "    .dataframe tbody tr th {\n",
       "        vertical-align: top;\n",
       "    }\n",
       "\n",
       "    .dataframe thead th {\n",
       "        text-align: right;\n",
       "    }\n",
       "</style>\n",
       "<table border=\"1\" class=\"dataframe\">\n",
       "  <thead>\n",
       "    <tr style=\"text-align: right;\">\n",
       "      <th></th>\n",
       "      <th>animal</th>\n",
       "      <th>age</th>\n",
       "      <th>visits</th>\n",
       "      <th>priority</th>\n",
       "    </tr>\n",
       "  </thead>\n",
       "  <tbody>\n",
       "    <tr>\n",
       "      <th>i</th>\n",
       "      <td>dog</td>\n",
       "      <td>7.0</td>\n",
       "      <td>2</td>\n",
       "      <td>no</td>\n",
       "    </tr>\n",
       "    <tr>\n",
       "      <th>e</th>\n",
       "      <td>dog</td>\n",
       "      <td>5.0</td>\n",
       "      <td>2</td>\n",
       "      <td>no</td>\n",
       "    </tr>\n",
       "    <tr>\n",
       "      <th>g</th>\n",
       "      <td>snake</td>\n",
       "      <td>4.5</td>\n",
       "      <td>1</td>\n",
       "      <td>no</td>\n",
       "    </tr>\n",
       "    <tr>\n",
       "      <th>j</th>\n",
       "      <td>dog</td>\n",
       "      <td>3.0</td>\n",
       "      <td>1</td>\n",
       "      <td>no</td>\n",
       "    </tr>\n",
       "    <tr>\n",
       "      <th>b</th>\n",
       "      <td>cat</td>\n",
       "      <td>3.0</td>\n",
       "      <td>3</td>\n",
       "      <td>yes</td>\n",
       "    </tr>\n",
       "    <tr>\n",
       "      <th>a</th>\n",
       "      <td>cat</td>\n",
       "      <td>2.5</td>\n",
       "      <td>1</td>\n",
       "      <td>yes</td>\n",
       "    </tr>\n",
       "    <tr>\n",
       "      <th>f</th>\n",
       "      <td>cat</td>\n",
       "      <td>1.5</td>\n",
       "      <td>3</td>\n",
       "      <td>no</td>\n",
       "    </tr>\n",
       "    <tr>\n",
       "      <th>c</th>\n",
       "      <td>snake</td>\n",
       "      <td>0.5</td>\n",
       "      <td>2</td>\n",
       "      <td>no</td>\n",
       "    </tr>\n",
       "    <tr>\n",
       "      <th>h</th>\n",
       "      <td>cat</td>\n",
       "      <td>NaN</td>\n",
       "      <td>1</td>\n",
       "      <td>yes</td>\n",
       "    </tr>\n",
       "    <tr>\n",
       "      <th>d</th>\n",
       "      <td>dog</td>\n",
       "      <td>NaN</td>\n",
       "      <td>3</td>\n",
       "      <td>yes</td>\n",
       "    </tr>\n",
       "  </tbody>\n",
       "</table>\n",
       "</div>"
      ],
      "text/plain": [
       "  animal  age  visits priority\n",
       "i    dog  7.0       2       no\n",
       "e    dog  5.0       2       no\n",
       "g  snake  4.5       1       no\n",
       "j    dog  3.0       1       no\n",
       "b    cat  3.0       3      yes\n",
       "a    cat  2.5       1      yes\n",
       "f    cat  1.5       3       no\n",
       "c  snake  0.5       2       no\n",
       "h    cat  NaN       1      yes\n",
       "d    dog  NaN       3      yes"
      ]
     },
     "execution_count": 73,
     "metadata": {},
     "output_type": "execute_result"
    }
   ],
   "source": [
    "df.sort_values(by=['age', 'visits'], ascending=[False, True])"
   ]
  },
  {
   "cell_type": "markdown",
   "id": "84eb8df2",
   "metadata": {},
   "source": [
    "**19.** 将 `priority` 列的 `yes` 和 `no` 用 `True` 和 `False` 替换"
   ]
  },
  {
   "cell_type": "code",
   "execution_count": 78,
   "id": "b12fbb7c-208c-4d21-8b35-f0ae9be7e6c4",
   "metadata": {},
   "outputs": [],
   "source": [
    "df['priority'] = df['priority'].replace({'yes':True, 'no':False})"
   ]
  },
  {
   "cell_type": "markdown",
   "id": "7d3cb893",
   "metadata": {
    "ExecuteTime": {
     "end_time": "2022-07-04T02:44:08.561713Z",
     "start_time": "2022-07-04T02:44:08.549886Z"
    }
   },
   "source": [
    "**20.** 将 `animal` 列的 `snake` 用 `python` 替换"
   ]
  },
  {
   "cell_type": "code",
   "execution_count": 80,
   "id": "501fd682",
   "metadata": {},
   "outputs": [
    {
     "data": {
      "text/html": [
       "<div>\n",
       "<style scoped>\n",
       "    .dataframe tbody tr th:only-of-type {\n",
       "        vertical-align: middle;\n",
       "    }\n",
       "\n",
       "    .dataframe tbody tr th {\n",
       "        vertical-align: top;\n",
       "    }\n",
       "\n",
       "    .dataframe thead th {\n",
       "        text-align: right;\n",
       "    }\n",
       "</style>\n",
       "<table border=\"1\" class=\"dataframe\">\n",
       "  <thead>\n",
       "    <tr style=\"text-align: right;\">\n",
       "      <th></th>\n",
       "      <th>animal</th>\n",
       "      <th>age</th>\n",
       "      <th>visits</th>\n",
       "      <th>priority</th>\n",
       "    </tr>\n",
       "  </thead>\n",
       "  <tbody>\n",
       "    <tr>\n",
       "      <th>a</th>\n",
       "      <td>cat</td>\n",
       "      <td>2.5</td>\n",
       "      <td>1</td>\n",
       "      <td>True</td>\n",
       "    </tr>\n",
       "    <tr>\n",
       "      <th>b</th>\n",
       "      <td>cat</td>\n",
       "      <td>3.0</td>\n",
       "      <td>3</td>\n",
       "      <td>True</td>\n",
       "    </tr>\n",
       "    <tr>\n",
       "      <th>c</th>\n",
       "      <td>python</td>\n",
       "      <td>0.5</td>\n",
       "      <td>2</td>\n",
       "      <td>False</td>\n",
       "    </tr>\n",
       "    <tr>\n",
       "      <th>d</th>\n",
       "      <td>dog</td>\n",
       "      <td>NaN</td>\n",
       "      <td>3</td>\n",
       "      <td>True</td>\n",
       "    </tr>\n",
       "    <tr>\n",
       "      <th>e</th>\n",
       "      <td>dog</td>\n",
       "      <td>5.0</td>\n",
       "      <td>2</td>\n",
       "      <td>False</td>\n",
       "    </tr>\n",
       "    <tr>\n",
       "      <th>f</th>\n",
       "      <td>cat</td>\n",
       "      <td>1.5</td>\n",
       "      <td>3</td>\n",
       "      <td>False</td>\n",
       "    </tr>\n",
       "    <tr>\n",
       "      <th>g</th>\n",
       "      <td>python</td>\n",
       "      <td>4.5</td>\n",
       "      <td>1</td>\n",
       "      <td>False</td>\n",
       "    </tr>\n",
       "    <tr>\n",
       "      <th>h</th>\n",
       "      <td>cat</td>\n",
       "      <td>NaN</td>\n",
       "      <td>1</td>\n",
       "      <td>True</td>\n",
       "    </tr>\n",
       "    <tr>\n",
       "      <th>i</th>\n",
       "      <td>dog</td>\n",
       "      <td>7.0</td>\n",
       "      <td>2</td>\n",
       "      <td>False</td>\n",
       "    </tr>\n",
       "    <tr>\n",
       "      <th>j</th>\n",
       "      <td>dog</td>\n",
       "      <td>3.0</td>\n",
       "      <td>1</td>\n",
       "      <td>False</td>\n",
       "    </tr>\n",
       "  </tbody>\n",
       "</table>\n",
       "</div>"
      ],
      "text/plain": [
       "   animal  age  visits  priority\n",
       "a     cat  2.5       1      True\n",
       "b     cat  3.0       3      True\n",
       "c  python  0.5       2     False\n",
       "d     dog  NaN       3      True\n",
       "e     dog  5.0       2     False\n",
       "f     cat  1.5       3     False\n",
       "g  python  4.5       1     False\n",
       "h     cat  NaN       1      True\n",
       "i     dog  7.0       2     False\n",
       "j     dog  3.0       1     False"
      ]
     },
     "execution_count": 80,
     "metadata": {},
     "output_type": "execute_result"
    }
   ],
   "source": [
    "df['animal'] = df['animal'].apply(lambda x: 'python' if x == 'snake' else x)\n",
    "df"
   ]
  },
  {
   "cell_type": "markdown",
   "id": "7a128734",
   "metadata": {},
   "source": [
    "**21.** 对于每种 `animal` 和 `visit`，求出平均年龄。换句话说，每一行都是动物，每一列都是访问次数，其值是平均年龄（提示：使用数据透视表）"
   ]
  },
  {
   "cell_type": "code",
   "execution_count": 86,
   "id": "a6a4621c",
   "metadata": {},
   "outputs": [
    {
     "data": {
      "text/html": [
       "<div>\n",
       "<style scoped>\n",
       "    .dataframe tbody tr th:only-of-type {\n",
       "        vertical-align: middle;\n",
       "    }\n",
       "\n",
       "    .dataframe tbody tr th {\n",
       "        vertical-align: top;\n",
       "    }\n",
       "\n",
       "    .dataframe thead tr th {\n",
       "        text-align: left;\n",
       "    }\n",
       "\n",
       "    .dataframe thead tr:last-of-type th {\n",
       "        text-align: right;\n",
       "    }\n",
       "</style>\n",
       "<table border=\"1\" class=\"dataframe\">\n",
       "  <thead>\n",
       "    <tr>\n",
       "      <th></th>\n",
       "      <th colspan=\"3\" halign=\"left\">age</th>\n",
       "    </tr>\n",
       "    <tr>\n",
       "      <th>visits</th>\n",
       "      <th>1</th>\n",
       "      <th>2</th>\n",
       "      <th>3</th>\n",
       "    </tr>\n",
       "    <tr>\n",
       "      <th>animal</th>\n",
       "      <th></th>\n",
       "      <th></th>\n",
       "      <th></th>\n",
       "    </tr>\n",
       "  </thead>\n",
       "  <tbody>\n",
       "    <tr>\n",
       "      <th>cat</th>\n",
       "      <td>2.5</td>\n",
       "      <td>NaN</td>\n",
       "      <td>2.25</td>\n",
       "    </tr>\n",
       "    <tr>\n",
       "      <th>dog</th>\n",
       "      <td>3.0</td>\n",
       "      <td>6.0</td>\n",
       "      <td>NaN</td>\n",
       "    </tr>\n",
       "    <tr>\n",
       "      <th>python</th>\n",
       "      <td>4.5</td>\n",
       "      <td>0.5</td>\n",
       "      <td>NaN</td>\n",
       "    </tr>\n",
       "  </tbody>\n",
       "</table>\n",
       "</div>"
      ],
      "text/plain": [
       "        age           \n",
       "visits    1    2     3\n",
       "animal                \n",
       "cat     2.5  NaN  2.25\n",
       "dog     3.0  6.0   NaN\n",
       "python  4.5  0.5   NaN"
      ]
     },
     "execution_count": 86,
     "metadata": {},
     "output_type": "execute_result"
    }
   ],
   "source": [
    "df.pivot_table(values=['age'], index=['animal'], columns=['visits'],aggfunc='mean')"
   ]
  },
  {
   "cell_type": "markdown",
   "id": "a5537fc6",
   "metadata": {
    "ExecuteTime": {
     "end_time": "2022-07-04T02:50:22.270613Z",
     "start_time": "2022-07-04T02:50:22.256708Z"
    }
   },
   "source": [
    "**22.** 读取`data`文件夹下的`boston.csv`文件，并尝试利用上面的方法自行分析，得出一些简单的结论."
   ]
  },
  {
   "cell_type": "code",
   "execution_count": 89,
   "id": "d05a3b3c",
   "metadata": {},
   "outputs": [
    {
     "data": {
      "text/html": [
       "<div>\n",
       "<style scoped>\n",
       "    .dataframe tbody tr th:only-of-type {\n",
       "        vertical-align: middle;\n",
       "    }\n",
       "\n",
       "    .dataframe tbody tr th {\n",
       "        vertical-align: top;\n",
       "    }\n",
       "\n",
       "    .dataframe thead th {\n",
       "        text-align: right;\n",
       "    }\n",
       "</style>\n",
       "<table border=\"1\" class=\"dataframe\">\n",
       "  <thead>\n",
       "    <tr style=\"text-align: right;\">\n",
       "      <th></th>\n",
       "      <th>CRIM</th>\n",
       "      <th>ZN</th>\n",
       "      <th>INDUS</th>\n",
       "      <th>CHAS</th>\n",
       "      <th>NOX</th>\n",
       "      <th>RM</th>\n",
       "      <th>AGE</th>\n",
       "      <th>DIS</th>\n",
       "      <th>RAD</th>\n",
       "      <th>TAX</th>\n",
       "      <th>PTRATIO</th>\n",
       "      <th>B</th>\n",
       "      <th>LSTAT</th>\n",
       "      <th>MEDV</th>\n",
       "    </tr>\n",
       "  </thead>\n",
       "  <tbody>\n",
       "    <tr>\n",
       "      <th>0</th>\n",
       "      <td>0.00632</td>\n",
       "      <td>18.0</td>\n",
       "      <td>2.31</td>\n",
       "      <td>0</td>\n",
       "      <td>0.538</td>\n",
       "      <td>6.575</td>\n",
       "      <td>65.2</td>\n",
       "      <td>4.0900</td>\n",
       "      <td>1</td>\n",
       "      <td>296.0</td>\n",
       "      <td>15.3</td>\n",
       "      <td>396.90</td>\n",
       "      <td>4.98</td>\n",
       "      <td>24.0</td>\n",
       "    </tr>\n",
       "    <tr>\n",
       "      <th>1</th>\n",
       "      <td>0.02731</td>\n",
       "      <td>0.0</td>\n",
       "      <td>7.07</td>\n",
       "      <td>0</td>\n",
       "      <td>0.469</td>\n",
       "      <td>6.421</td>\n",
       "      <td>78.9</td>\n",
       "      <td>4.9671</td>\n",
       "      <td>2</td>\n",
       "      <td>242.0</td>\n",
       "      <td>17.8</td>\n",
       "      <td>396.90</td>\n",
       "      <td>9.14</td>\n",
       "      <td>21.6</td>\n",
       "    </tr>\n",
       "    <tr>\n",
       "      <th>2</th>\n",
       "      <td>0.02729</td>\n",
       "      <td>0.0</td>\n",
       "      <td>7.07</td>\n",
       "      <td>0</td>\n",
       "      <td>0.469</td>\n",
       "      <td>7.185</td>\n",
       "      <td>61.1</td>\n",
       "      <td>4.9671</td>\n",
       "      <td>2</td>\n",
       "      <td>242.0</td>\n",
       "      <td>17.8</td>\n",
       "      <td>392.83</td>\n",
       "      <td>4.03</td>\n",
       "      <td>34.7</td>\n",
       "    </tr>\n",
       "    <tr>\n",
       "      <th>3</th>\n",
       "      <td>0.03237</td>\n",
       "      <td>0.0</td>\n",
       "      <td>2.18</td>\n",
       "      <td>0</td>\n",
       "      <td>0.458</td>\n",
       "      <td>6.998</td>\n",
       "      <td>45.8</td>\n",
       "      <td>6.0622</td>\n",
       "      <td>3</td>\n",
       "      <td>222.0</td>\n",
       "      <td>18.7</td>\n",
       "      <td>394.63</td>\n",
       "      <td>2.94</td>\n",
       "      <td>33.4</td>\n",
       "    </tr>\n",
       "    <tr>\n",
       "      <th>4</th>\n",
       "      <td>0.06905</td>\n",
       "      <td>0.0</td>\n",
       "      <td>2.18</td>\n",
       "      <td>0</td>\n",
       "      <td>0.458</td>\n",
       "      <td>7.147</td>\n",
       "      <td>54.2</td>\n",
       "      <td>6.0622</td>\n",
       "      <td>3</td>\n",
       "      <td>222.0</td>\n",
       "      <td>18.7</td>\n",
       "      <td>396.90</td>\n",
       "      <td>5.33</td>\n",
       "      <td>36.2</td>\n",
       "    </tr>\n",
       "  </tbody>\n",
       "</table>\n",
       "</div>"
      ],
      "text/plain": [
       "      CRIM    ZN  INDUS  CHAS    NOX     RM   AGE     DIS  RAD    TAX  \\\n",
       "0  0.00632  18.0   2.31     0  0.538  6.575  65.2  4.0900    1  296.0   \n",
       "1  0.02731   0.0   7.07     0  0.469  6.421  78.9  4.9671    2  242.0   \n",
       "2  0.02729   0.0   7.07     0  0.469  7.185  61.1  4.9671    2  242.0   \n",
       "3  0.03237   0.0   2.18     0  0.458  6.998  45.8  6.0622    3  222.0   \n",
       "4  0.06905   0.0   2.18     0  0.458  7.147  54.2  6.0622    3  222.0   \n",
       "\n",
       "   PTRATIO       B  LSTAT  MEDV  \n",
       "0     15.3  396.90   4.98  24.0  \n",
       "1     17.8  396.90   9.14  21.6  \n",
       "2     17.8  392.83   4.03  34.7  \n",
       "3     18.7  394.63   2.94  33.4  \n",
       "4     18.7  396.90   5.33  36.2  "
      ]
     },
     "execution_count": 89,
     "metadata": {},
     "output_type": "execute_result"
    }
   ],
   "source": [
    "import os\n",
    "os.getcwd()\n",
    "boston = pd.read_csv('./data/boston.csv')\n",
    "boston.head()"
   ]
  },
  {
   "cell_type": "markdown",
   "id": "0ccbd4de",
   "metadata": {},
   "source": [
    "至此，相信你已经可以通过阅读文档，掌握了pandas中`DataFrame`的一些基本操作，下面我们来讲点更进一步的操作，它是上述这些操作的一些巧妙结合"
   ]
  },
  {
   "cell_type": "markdown",
   "id": "650dbb70",
   "metadata": {
    "ExecuteTime": {
     "end_time": "2022-07-04T07:05:26.844231Z",
     "start_time": "2022-07-04T07:05:26.824243Z"
    }
   },
   "source": [
    "## 食材搭配\n",
    "在这个部分中，我们主要介绍对于DataFrame中的数据的一些操作：去重、数据计算、取值······\n",
    "> 请你阅读Joyful-Pandas第二章，完成下方练习. http://joyfulpandas.datawhale.club/Content/ch2.html"
   ]
  },
  {
   "cell_type": "code",
   "execution_count": 90,
   "id": "91fa7629",
   "metadata": {
    "ExecuteTime": {
     "end_time": "2022-07-05T08:07:12.292442Z",
     "start_time": "2022-07-05T08:07:12.275488Z"
    },
    "scrolled": true
   },
   "outputs": [
    {
     "data": {
      "text/html": [
       "<div>\n",
       "<style scoped>\n",
       "    .dataframe tbody tr th:only-of-type {\n",
       "        vertical-align: middle;\n",
       "    }\n",
       "\n",
       "    .dataframe tbody tr th {\n",
       "        vertical-align: top;\n",
       "    }\n",
       "\n",
       "    .dataframe thead th {\n",
       "        text-align: right;\n",
       "    }\n",
       "</style>\n",
       "<table border=\"1\" class=\"dataframe\">\n",
       "  <thead>\n",
       "    <tr style=\"text-align: right;\">\n",
       "      <th></th>\n",
       "      <th>A</th>\n",
       "    </tr>\n",
       "  </thead>\n",
       "  <tbody>\n",
       "    <tr>\n",
       "      <th>0</th>\n",
       "      <td>1</td>\n",
       "    </tr>\n",
       "    <tr>\n",
       "      <th>1</th>\n",
       "      <td>2</td>\n",
       "    </tr>\n",
       "    <tr>\n",
       "      <th>2</th>\n",
       "      <td>2</td>\n",
       "    </tr>\n",
       "    <tr>\n",
       "      <th>3</th>\n",
       "      <td>3</td>\n",
       "    </tr>\n",
       "    <tr>\n",
       "      <th>4</th>\n",
       "      <td>4</td>\n",
       "    </tr>\n",
       "    <tr>\n",
       "      <th>5</th>\n",
       "      <td>5</td>\n",
       "    </tr>\n",
       "    <tr>\n",
       "      <th>6</th>\n",
       "      <td>5</td>\n",
       "    </tr>\n",
       "    <tr>\n",
       "      <th>7</th>\n",
       "      <td>5</td>\n",
       "    </tr>\n",
       "    <tr>\n",
       "      <th>8</th>\n",
       "      <td>6</td>\n",
       "    </tr>\n",
       "    <tr>\n",
       "      <th>9</th>\n",
       "      <td>7</td>\n",
       "    </tr>\n",
       "    <tr>\n",
       "      <th>10</th>\n",
       "      <td>7</td>\n",
       "    </tr>\n",
       "  </tbody>\n",
       "</table>\n",
       "</div>"
      ],
      "text/plain": [
       "    A\n",
       "0   1\n",
       "1   2\n",
       "2   2\n",
       "3   3\n",
       "4   4\n",
       "5   5\n",
       "6   5\n",
       "7   5\n",
       "8   6\n",
       "9   7\n",
       "10  7"
      ]
     },
     "execution_count": 90,
     "metadata": {},
     "output_type": "execute_result"
    }
   ],
   "source": [
    "df = pd.DataFrame({'A': [1, 2, 2, 3, 4, 5, 5, 5, 6, 7, 7]})\n",
    "df"
   ]
  },
  {
   "cell_type": "markdown",
   "id": "2b0a555c",
   "metadata": {},
   "source": [
    "**23.** 请用pandas操作输出上面的`df`中`A`列出现的元素的唯一值（即：出现过的所有元素的集合）"
   ]
  },
  {
   "cell_type": "code",
   "execution_count": 94,
   "id": "20967bea",
   "metadata": {},
   "outputs": [
    {
     "data": {
      "text/plain": [
       "Int64Index([5, 2, 7, 1, 3, 4, 6], dtype='int64')"
      ]
     },
     "execution_count": 94,
     "metadata": {},
     "output_type": "execute_result"
    }
   ],
   "source": [
    "# unique是series的函数\n",
    "# 第一种方法\n",
    "df['A'].unique()\n",
    "# 第二种方法\n",
    "df['A'].value_counts().index"
   ]
  },
  {
   "cell_type": "markdown",
   "id": "522930e8",
   "metadata": {},
   "source": [
    "**24.** 输出`df`中的唯一值及其对应出现的频数"
   ]
  },
  {
   "cell_type": "code",
   "execution_count": 96,
   "id": "3ae1c176",
   "metadata": {},
   "outputs": [
    {
     "data": {
      "text/plain": [
       "5    3\n",
       "2    2\n",
       "7    2\n",
       "1    1\n",
       "3    1\n",
       "4    1\n",
       "6    1\n",
       "Name: A, dtype: int64"
      ]
     },
     "execution_count": 96,
     "metadata": {},
     "output_type": "execute_result"
    }
   ],
   "source": [
    "df['A'].value_counts()"
   ]
  },
  {
   "cell_type": "markdown",
   "id": "357a213c",
   "metadata": {},
   "source": [
    "**25.** 将`df`进行数据降重"
   ]
  },
  {
   "cell_type": "code",
   "execution_count": 97,
   "id": "add3ce99",
   "metadata": {},
   "outputs": [
    {
     "data": {
      "text/html": [
       "<div>\n",
       "<style scoped>\n",
       "    .dataframe tbody tr th:only-of-type {\n",
       "        vertical-align: middle;\n",
       "    }\n",
       "\n",
       "    .dataframe tbody tr th {\n",
       "        vertical-align: top;\n",
       "    }\n",
       "\n",
       "    .dataframe thead th {\n",
       "        text-align: right;\n",
       "    }\n",
       "</style>\n",
       "<table border=\"1\" class=\"dataframe\">\n",
       "  <thead>\n",
       "    <tr style=\"text-align: right;\">\n",
       "      <th></th>\n",
       "      <th>A</th>\n",
       "    </tr>\n",
       "  </thead>\n",
       "  <tbody>\n",
       "    <tr>\n",
       "      <th>0</th>\n",
       "      <td>1</td>\n",
       "    </tr>\n",
       "    <tr>\n",
       "      <th>1</th>\n",
       "      <td>2</td>\n",
       "    </tr>\n",
       "    <tr>\n",
       "      <th>3</th>\n",
       "      <td>3</td>\n",
       "    </tr>\n",
       "    <tr>\n",
       "      <th>4</th>\n",
       "      <td>4</td>\n",
       "    </tr>\n",
       "    <tr>\n",
       "      <th>5</th>\n",
       "      <td>5</td>\n",
       "    </tr>\n",
       "    <tr>\n",
       "      <th>8</th>\n",
       "      <td>6</td>\n",
       "    </tr>\n",
       "    <tr>\n",
       "      <th>9</th>\n",
       "      <td>7</td>\n",
       "    </tr>\n",
       "  </tbody>\n",
       "</table>\n",
       "</div>"
      ],
      "text/plain": [
       "   A\n",
       "0  1\n",
       "1  2\n",
       "3  3\n",
       "4  4\n",
       "5  5\n",
       "8  6\n",
       "9  7"
      ]
     },
     "execution_count": 97,
     "metadata": {},
     "output_type": "execute_result"
    }
   ],
   "source": [
    "df.drop_duplicates()"
   ]
  },
  {
   "cell_type": "markdown",
   "id": "a58a8d08",
   "metadata": {},
   "source": [
    "**26.** 给定一组随机数据"
   ]
  },
  {
   "cell_type": "code",
   "execution_count": 98,
   "id": "8c2a2a1a",
   "metadata": {
    "ExecuteTime": {
     "end_time": "2022-07-05T08:07:17.237902Z",
     "start_time": "2022-07-05T08:07:17.214962Z"
    }
   },
   "outputs": [
    {
     "data": {
      "text/html": [
       "<div>\n",
       "<style scoped>\n",
       "    .dataframe tbody tr th:only-of-type {\n",
       "        vertical-align: middle;\n",
       "    }\n",
       "\n",
       "    .dataframe tbody tr th {\n",
       "        vertical-align: top;\n",
       "    }\n",
       "\n",
       "    .dataframe thead th {\n",
       "        text-align: right;\n",
       "    }\n",
       "</style>\n",
       "<table border=\"1\" class=\"dataframe\">\n",
       "  <thead>\n",
       "    <tr style=\"text-align: right;\">\n",
       "      <th></th>\n",
       "      <th>0</th>\n",
       "      <th>1</th>\n",
       "      <th>2</th>\n",
       "    </tr>\n",
       "  </thead>\n",
       "  <tbody>\n",
       "    <tr>\n",
       "      <th>0</th>\n",
       "      <td>0.965738</td>\n",
       "      <td>0.804279</td>\n",
       "      <td>0.657040</td>\n",
       "    </tr>\n",
       "    <tr>\n",
       "      <th>1</th>\n",
       "      <td>0.923284</td>\n",
       "      <td>0.018658</td>\n",
       "      <td>0.582691</td>\n",
       "    </tr>\n",
       "    <tr>\n",
       "      <th>2</th>\n",
       "      <td>0.209665</td>\n",
       "      <td>0.392406</td>\n",
       "      <td>0.892436</td>\n",
       "    </tr>\n",
       "    <tr>\n",
       "      <th>3</th>\n",
       "      <td>0.134877</td>\n",
       "      <td>0.667513</td>\n",
       "      <td>0.969617</td>\n",
       "    </tr>\n",
       "    <tr>\n",
       "      <th>4</th>\n",
       "      <td>0.154798</td>\n",
       "      <td>0.010162</td>\n",
       "      <td>0.814704</td>\n",
       "    </tr>\n",
       "  </tbody>\n",
       "</table>\n",
       "</div>"
      ],
      "text/plain": [
       "          0         1         2\n",
       "0  0.965738  0.804279  0.657040\n",
       "1  0.923284  0.018658  0.582691\n",
       "2  0.209665  0.392406  0.892436\n",
       "3  0.134877  0.667513  0.969617\n",
       "4  0.154798  0.010162  0.814704"
      ]
     },
     "execution_count": 98,
     "metadata": {},
     "output_type": "execute_result"
    }
   ],
   "source": [
    "df = pd.DataFrame(np.random.random(size=(5, 3))) \n",
    "df"
   ]
  },
  {
   "cell_type": "markdown",
   "id": "d5438101",
   "metadata": {},
   "source": [
    "使每个元素减去所在行的平均值？"
   ]
  },
  {
   "cell_type": "code",
   "execution_count": 104,
   "id": "b4fcd23a",
   "metadata": {},
   "outputs": [
    {
     "data": {
      "text/html": [
       "<div>\n",
       "<style scoped>\n",
       "    .dataframe tbody tr th:only-of-type {\n",
       "        vertical-align: middle;\n",
       "    }\n",
       "\n",
       "    .dataframe tbody tr th {\n",
       "        vertical-align: top;\n",
       "    }\n",
       "\n",
       "    .dataframe thead th {\n",
       "        text-align: right;\n",
       "    }\n",
       "</style>\n",
       "<table border=\"1\" class=\"dataframe\">\n",
       "  <thead>\n",
       "    <tr style=\"text-align: right;\">\n",
       "      <th></th>\n",
       "      <th>0</th>\n",
       "      <th>1</th>\n",
       "      <th>2</th>\n",
       "    </tr>\n",
       "  </thead>\n",
       "  <tbody>\n",
       "    <tr>\n",
       "      <th>0</th>\n",
       "      <td>0.156719</td>\n",
       "      <td>-0.004740</td>\n",
       "      <td>-0.151979</td>\n",
       "    </tr>\n",
       "    <tr>\n",
       "      <th>1</th>\n",
       "      <td>0.415073</td>\n",
       "      <td>-0.489553</td>\n",
       "      <td>0.074480</td>\n",
       "    </tr>\n",
       "    <tr>\n",
       "      <th>2</th>\n",
       "      <td>-0.288504</td>\n",
       "      <td>-0.105763</td>\n",
       "      <td>0.394267</td>\n",
       "    </tr>\n",
       "    <tr>\n",
       "      <th>3</th>\n",
       "      <td>-0.455792</td>\n",
       "      <td>0.076844</td>\n",
       "      <td>0.378948</td>\n",
       "    </tr>\n",
       "    <tr>\n",
       "      <th>4</th>\n",
       "      <td>-0.171757</td>\n",
       "      <td>-0.316393</td>\n",
       "      <td>0.488150</td>\n",
       "    </tr>\n",
       "  </tbody>\n",
       "</table>\n",
       "</div>"
      ],
      "text/plain": [
       "          0         1         2\n",
       "0  0.156719 -0.004740 -0.151979\n",
       "1  0.415073 -0.489553  0.074480\n",
       "2 -0.288504 -0.105763  0.394267\n",
       "3 -0.455792  0.076844  0.378948\n",
       "4 -0.171757 -0.316393  0.488150"
      ]
     },
     "execution_count": 104,
     "metadata": {},
     "output_type": "execute_result"
    }
   ],
   "source": [
    "# axis = 1代表对行处理\n",
    "df.apply(lambda x: x - x.mean(), axis=1)"
   ]
  },
  {
   "cell_type": "markdown",
   "id": "15b52185",
   "metadata": {
    "ExecuteTime": {
     "end_time": "2022-07-05T07:14:41.665432Z",
     "start_time": "2022-07-05T07:14:41.650472Z"
    }
   },
   "source": [
    "**27.** 返回下列`df`数字总和最小那列的标签"
   ]
  },
  {
   "cell_type": "code",
   "execution_count": 105,
   "id": "8f59a30f",
   "metadata": {
    "ExecuteTime": {
     "end_time": "2022-07-05T08:07:21.622398Z",
     "start_time": "2022-07-05T08:07:21.592707Z"
    }
   },
   "outputs": [
    {
     "data": {
      "text/html": [
       "<div>\n",
       "<style scoped>\n",
       "    .dataframe tbody tr th:only-of-type {\n",
       "        vertical-align: middle;\n",
       "    }\n",
       "\n",
       "    .dataframe tbody tr th {\n",
       "        vertical-align: top;\n",
       "    }\n",
       "\n",
       "    .dataframe thead th {\n",
       "        text-align: right;\n",
       "    }\n",
       "</style>\n",
       "<table border=\"1\" class=\"dataframe\">\n",
       "  <thead>\n",
       "    <tr style=\"text-align: right;\">\n",
       "      <th></th>\n",
       "      <th>a</th>\n",
       "      <th>b</th>\n",
       "      <th>c</th>\n",
       "      <th>d</th>\n",
       "      <th>e</th>\n",
       "      <th>f</th>\n",
       "      <th>g</th>\n",
       "      <th>h</th>\n",
       "      <th>i</th>\n",
       "      <th>j</th>\n",
       "    </tr>\n",
       "  </thead>\n",
       "  <tbody>\n",
       "    <tr>\n",
       "      <th>0</th>\n",
       "      <td>0.581329</td>\n",
       "      <td>0.484643</td>\n",
       "      <td>0.011419</td>\n",
       "      <td>0.967589</td>\n",
       "      <td>0.661462</td>\n",
       "      <td>0.565569</td>\n",
       "      <td>0.131134</td>\n",
       "      <td>0.195480</td>\n",
       "      <td>0.470405</td>\n",
       "      <td>0.387159</td>\n",
       "    </tr>\n",
       "    <tr>\n",
       "      <th>1</th>\n",
       "      <td>0.419048</td>\n",
       "      <td>0.080977</td>\n",
       "      <td>0.507348</td>\n",
       "      <td>0.550566</td>\n",
       "      <td>0.533574</td>\n",
       "      <td>0.794285</td>\n",
       "      <td>0.547655</td>\n",
       "      <td>0.798125</td>\n",
       "      <td>0.695863</td>\n",
       "      <td>0.897092</td>\n",
       "    </tr>\n",
       "    <tr>\n",
       "      <th>2</th>\n",
       "      <td>0.688718</td>\n",
       "      <td>0.228014</td>\n",
       "      <td>0.845087</td>\n",
       "      <td>0.417003</td>\n",
       "      <td>0.607764</td>\n",
       "      <td>0.169663</td>\n",
       "      <td>0.019787</td>\n",
       "      <td>0.779262</td>\n",
       "      <td>0.503095</td>\n",
       "      <td>0.336868</td>\n",
       "    </tr>\n",
       "    <tr>\n",
       "      <th>3</th>\n",
       "      <td>0.553954</td>\n",
       "      <td>0.457701</td>\n",
       "      <td>0.860726</td>\n",
       "      <td>0.942111</td>\n",
       "      <td>0.687476</td>\n",
       "      <td>0.757088</td>\n",
       "      <td>0.384754</td>\n",
       "      <td>0.186409</td>\n",
       "      <td>0.307679</td>\n",
       "      <td>0.627723</td>\n",
       "    </tr>\n",
       "    <tr>\n",
       "      <th>4</th>\n",
       "      <td>0.438225</td>\n",
       "      <td>0.907269</td>\n",
       "      <td>0.815245</td>\n",
       "      <td>0.802686</td>\n",
       "      <td>0.683702</td>\n",
       "      <td>0.859563</td>\n",
       "      <td>0.090001</td>\n",
       "      <td>0.074377</td>\n",
       "      <td>0.547672</td>\n",
       "      <td>0.193946</td>\n",
       "    </tr>\n",
       "  </tbody>\n",
       "</table>\n",
       "</div>"
      ],
      "text/plain": [
       "          a         b         c         d         e         f         g  \\\n",
       "0  0.581329  0.484643  0.011419  0.967589  0.661462  0.565569  0.131134   \n",
       "1  0.419048  0.080977  0.507348  0.550566  0.533574  0.794285  0.547655   \n",
       "2  0.688718  0.228014  0.845087  0.417003  0.607764  0.169663  0.019787   \n",
       "3  0.553954  0.457701  0.860726  0.942111  0.687476  0.757088  0.384754   \n",
       "4  0.438225  0.907269  0.815245  0.802686  0.683702  0.859563  0.090001   \n",
       "\n",
       "          h         i         j  \n",
       "0  0.195480  0.470405  0.387159  \n",
       "1  0.798125  0.695863  0.897092  \n",
       "2  0.779262  0.503095  0.336868  \n",
       "3  0.186409  0.307679  0.627723  \n",
       "4  0.074377  0.547672  0.193946  "
      ]
     },
     "execution_count": 105,
     "metadata": {},
     "output_type": "execute_result"
    }
   ],
   "source": [
    "df = pd.DataFrame(np.random.random(size=(5, 10)), columns=list('abcdefghij'))\n",
    "df"
   ]
  },
  {
   "cell_type": "code",
   "execution_count": 119,
   "id": "14a640f3",
   "metadata": {},
   "outputs": [
    {
     "data": {
      "text/plain": [
       "'g'"
      ]
     },
     "execution_count": 119,
     "metadata": {},
     "output_type": "execute_result"
    }
   ],
   "source": [
    "# 第一种\n",
    "min(zip(df.sum(axis=0).index, df.sum(axis=0)), key=lambda x: x[1])[0]\n",
    "# 第二种\n",
    "df.sum(axis=0).sort_values().index[0]"
   ]
  },
  {
   "cell_type": "markdown",
   "id": "843a3dcc",
   "metadata": {
    "ExecuteTime": {
     "end_time": "2022-07-05T07:15:19.470859Z",
     "start_time": "2022-07-05T07:15:19.462882Z"
    }
   },
   "source": [
    "**28.** 计算一个 DataFrame 有多少不重复的行？"
   ]
  },
  {
   "cell_type": "code",
   "execution_count": 120,
   "id": "d4409f74",
   "metadata": {
    "ExecuteTime": {
     "end_time": "2022-07-05T08:07:25.604487Z",
     "start_time": "2022-07-05T08:07:25.583411Z"
    }
   },
   "outputs": [
    {
     "data": {
      "text/html": [
       "<div>\n",
       "<style scoped>\n",
       "    .dataframe tbody tr th:only-of-type {\n",
       "        vertical-align: middle;\n",
       "    }\n",
       "\n",
       "    .dataframe tbody tr th {\n",
       "        vertical-align: top;\n",
       "    }\n",
       "\n",
       "    .dataframe thead th {\n",
       "        text-align: right;\n",
       "    }\n",
       "</style>\n",
       "<table border=\"1\" class=\"dataframe\">\n",
       "  <thead>\n",
       "    <tr style=\"text-align: right;\">\n",
       "      <th></th>\n",
       "      <th>0</th>\n",
       "      <th>1</th>\n",
       "      <th>2</th>\n",
       "    </tr>\n",
       "  </thead>\n",
       "  <tbody>\n",
       "    <tr>\n",
       "      <th>0</th>\n",
       "      <td>0</td>\n",
       "      <td>0</td>\n",
       "      <td>0</td>\n",
       "    </tr>\n",
       "    <tr>\n",
       "      <th>1</th>\n",
       "      <td>1</td>\n",
       "      <td>0</td>\n",
       "      <td>1</td>\n",
       "    </tr>\n",
       "    <tr>\n",
       "      <th>2</th>\n",
       "      <td>0</td>\n",
       "      <td>0</td>\n",
       "      <td>1</td>\n",
       "    </tr>\n",
       "    <tr>\n",
       "      <th>3</th>\n",
       "      <td>1</td>\n",
       "      <td>0</td>\n",
       "      <td>0</td>\n",
       "    </tr>\n",
       "    <tr>\n",
       "      <th>4</th>\n",
       "      <td>0</td>\n",
       "      <td>1</td>\n",
       "      <td>0</td>\n",
       "    </tr>\n",
       "    <tr>\n",
       "      <th>5</th>\n",
       "      <td>0</td>\n",
       "      <td>0</td>\n",
       "      <td>0</td>\n",
       "    </tr>\n",
       "    <tr>\n",
       "      <th>6</th>\n",
       "      <td>1</td>\n",
       "      <td>0</td>\n",
       "      <td>1</td>\n",
       "    </tr>\n",
       "    <tr>\n",
       "      <th>7</th>\n",
       "      <td>0</td>\n",
       "      <td>0</td>\n",
       "      <td>1</td>\n",
       "    </tr>\n",
       "    <tr>\n",
       "      <th>8</th>\n",
       "      <td>0</td>\n",
       "      <td>1</td>\n",
       "      <td>0</td>\n",
       "    </tr>\n",
       "    <tr>\n",
       "      <th>9</th>\n",
       "      <td>0</td>\n",
       "      <td>1</td>\n",
       "      <td>0</td>\n",
       "    </tr>\n",
       "  </tbody>\n",
       "</table>\n",
       "</div>"
      ],
      "text/plain": [
       "   0  1  2\n",
       "0  0  0  0\n",
       "1  1  0  1\n",
       "2  0  0  1\n",
       "3  1  0  0\n",
       "4  0  1  0\n",
       "5  0  0  0\n",
       "6  1  0  1\n",
       "7  0  0  1\n",
       "8  0  1  0\n",
       "9  0  1  0"
      ]
     },
     "execution_count": 120,
     "metadata": {},
     "output_type": "execute_result"
    }
   ],
   "source": [
    "df = pd.DataFrame(np.random.randint(0, 2, size=(10, 3)))\n",
    "df"
   ]
  },
  {
   "cell_type": "code",
   "execution_count": 125,
   "id": "a8f7afba",
   "metadata": {},
   "outputs": [
    {
     "data": {
      "text/plain": [
       "True     9\n",
       "False    1\n",
       "dtype: int64"
      ]
     },
     "execution_count": 125,
     "metadata": {},
     "output_type": "execute_result"
    }
   ],
   "source": [
    "df.duplicated(keep=False).value_counts()"
   ]
  },
  {
   "cell_type": "markdown",
   "id": "f83cc57c",
   "metadata": {},
   "source": [
    "**29.** DataFrame 数据如下，A 和 B 都是 0-100 之间（包括边界值）的数值，对 A 进行分段分组（i.e. (0, 10], (10, 20], ...），求每组内 B 的和。输出应该和下述一致：\n",
    "```\n",
    "A\n",
    "(0, 10]      635\n",
    "(10, 20]     360\n",
    "(20, 30]     315\n",
    "(30, 40]     306\n",
    "(40, 50]     750\n",
    "(50, 60]     284\n",
    "(60, 70]     424\n",
    "(70, 80]     526\n",
    "(80, 90]     835\n",
    "(90, 100]    852\n",
    "```"
   ]
  },
  {
   "cell_type": "code",
   "execution_count": 126,
   "id": "3c904d64",
   "metadata": {
    "ExecuteTime": {
     "end_time": "2022-07-05T08:07:42.584177Z",
     "start_time": "2022-07-05T08:07:42.559244Z"
    },
    "collapsed": true,
    "jupyter": {
     "outputs_hidden": true
    },
    "tags": []
   },
   "outputs": [
    {
     "data": {
      "text/html": [
       "<div>\n",
       "<style scoped>\n",
       "    .dataframe tbody tr th:only-of-type {\n",
       "        vertical-align: middle;\n",
       "    }\n",
       "\n",
       "    .dataframe tbody tr th {\n",
       "        vertical-align: top;\n",
       "    }\n",
       "\n",
       "    .dataframe thead th {\n",
       "        text-align: right;\n",
       "    }\n",
       "</style>\n",
       "<table border=\"1\" class=\"dataframe\">\n",
       "  <thead>\n",
       "    <tr style=\"text-align: right;\">\n",
       "      <th></th>\n",
       "      <th>A</th>\n",
       "      <th>B</th>\n",
       "    </tr>\n",
       "  </thead>\n",
       "  <tbody>\n",
       "    <tr>\n",
       "      <th>0</th>\n",
       "      <td>46</td>\n",
       "      <td>29</td>\n",
       "    </tr>\n",
       "    <tr>\n",
       "      <th>1</th>\n",
       "      <td>75</td>\n",
       "      <td>22</td>\n",
       "    </tr>\n",
       "    <tr>\n",
       "      <th>2</th>\n",
       "      <td>49</td>\n",
       "      <td>63</td>\n",
       "    </tr>\n",
       "    <tr>\n",
       "      <th>3</th>\n",
       "      <td>33</td>\n",
       "      <td>43</td>\n",
       "    </tr>\n",
       "    <tr>\n",
       "      <th>4</th>\n",
       "      <td>71</td>\n",
       "      <td>75</td>\n",
       "    </tr>\n",
       "    <tr>\n",
       "      <th>...</th>\n",
       "      <td>...</td>\n",
       "      <td>...</td>\n",
       "    </tr>\n",
       "    <tr>\n",
       "      <th>95</th>\n",
       "      <td>60</td>\n",
       "      <td>87</td>\n",
       "    </tr>\n",
       "    <tr>\n",
       "      <th>96</th>\n",
       "      <td>57</td>\n",
       "      <td>40</td>\n",
       "    </tr>\n",
       "    <tr>\n",
       "      <th>97</th>\n",
       "      <td>86</td>\n",
       "      <td>19</td>\n",
       "    </tr>\n",
       "    <tr>\n",
       "      <th>98</th>\n",
       "      <td>50</td>\n",
       "      <td>56</td>\n",
       "    </tr>\n",
       "    <tr>\n",
       "      <th>99</th>\n",
       "      <td>97</td>\n",
       "      <td>94</td>\n",
       "    </tr>\n",
       "  </tbody>\n",
       "</table>\n",
       "<p>100 rows × 2 columns</p>\n",
       "</div>"
      ],
      "text/plain": [
       "     A   B\n",
       "0   46  29\n",
       "1   75  22\n",
       "2   49  63\n",
       "3   33  43\n",
       "4   71  75\n",
       "..  ..  ..\n",
       "95  60  87\n",
       "96  57  40\n",
       "97  86  19\n",
       "98  50  56\n",
       "99  97  94\n",
       "\n",
       "[100 rows x 2 columns]"
      ]
     },
     "execution_count": 126,
     "metadata": {},
     "output_type": "execute_result"
    }
   ],
   "source": [
    "df = pd.DataFrame(np.random.RandomState(8765).randint(1, 101, \n",
    "                  size=(100, 2)), \n",
    "                  columns = [\"A\", \"B\"])\n",
    "df"
   ]
  },
  {
   "cell_type": "code",
   "execution_count": 140,
   "id": "b5e8d065",
   "metadata": {},
   "outputs": [
    {
     "data": {
      "text/plain": [
       "A\n",
       "(0, 10]      635\n",
       "(10, 20]     360\n",
       "(20, 30]     315\n",
       "(30, 40]     306\n",
       "(40, 50]     750\n",
       "(50, 60]     284\n",
       "(60, 70]     424\n",
       "(70, 80]     526\n",
       "(80, 90]     835\n",
       "(90, 100]    852\n",
       "Name: B, dtype: int32"
      ]
     },
     "execution_count": 140,
     "metadata": {},
     "output_type": "execute_result"
    }
   ],
   "source": [
    "# 第一种：用cut记录分组号再group by\n",
    "pd.cut(df['A'], [i * 10 for i in range(11)])\n",
    "\n",
    "# 第二种：自定义\n",
    "def cut_df(x):\n",
    "    if x <= 10:\n",
    "        return '(0, 10]'\n",
    "    elif x <= 20:\n",
    "        return '(10, 20]'\n",
    "    elif x <= 30:\n",
    "        return '(20, 30]'\n",
    "    elif x <= 40:\n",
    "        return '(30, 40]'\n",
    "    elif x <= 50:\n",
    "        return '(40, 50]'\n",
    "    elif x <= 60:\n",
    "        return '(50, 60]'\n",
    "    elif x <= 70:\n",
    "        return '(60, 70]'\n",
    "    elif x <= 80:\n",
    "        return '(70, 80]'\n",
    "    elif x <= 90:\n",
    "        return '(80, 90]'\n",
    "    else:\n",
    "        return '(90, 100]'\n",
    "df.groupby(by=df['A'].apply(cut_df))['B'].sum()\n",
    "\n",
    "# 第三种：cut+groupby\n",
    "df.groupby(by=pd.cut(df['A'], [i * 10 for i in range(11)]))['B'].sum()"
   ]
  },
  {
   "cell_type": "markdown",
   "id": "6011bb70",
   "metadata": {},
   "source": [
    "## 用pandas进行数据清洗\n",
    "下面的`df`是我们用到的数据集"
   ]
  },
  {
   "cell_type": "code",
   "execution_count": 247,
   "id": "76050b4f",
   "metadata": {
    "ExecuteTime": {
     "end_time": "2022-07-05T08:04:59.782407Z",
     "start_time": "2022-07-05T08:04:59.420401Z"
    }
   },
   "outputs": [
    {
     "data": {
      "text/html": [
       "<div>\n",
       "<style scoped>\n",
       "    .dataframe tbody tr th:only-of-type {\n",
       "        vertical-align: middle;\n",
       "    }\n",
       "\n",
       "    .dataframe tbody tr th {\n",
       "        vertical-align: top;\n",
       "    }\n",
       "\n",
       "    .dataframe thead th {\n",
       "        text-align: right;\n",
       "    }\n",
       "</style>\n",
       "<table border=\"1\" class=\"dataframe\">\n",
       "  <thead>\n",
       "    <tr style=\"text-align: right;\">\n",
       "      <th></th>\n",
       "      <th>From_To</th>\n",
       "      <th>FlightNumber</th>\n",
       "      <th>RecentDelays</th>\n",
       "      <th>Airline</th>\n",
       "    </tr>\n",
       "  </thead>\n",
       "  <tbody>\n",
       "    <tr>\n",
       "      <th>0</th>\n",
       "      <td>LoNDon_paris</td>\n",
       "      <td>10045.0</td>\n",
       "      <td>[23, 47]</td>\n",
       "      <td>KLM(!)</td>\n",
       "    </tr>\n",
       "    <tr>\n",
       "      <th>1</th>\n",
       "      <td>MAdrid_miLAN</td>\n",
       "      <td>NaN</td>\n",
       "      <td>[]</td>\n",
       "      <td>&lt;Air France&gt; (12)</td>\n",
       "    </tr>\n",
       "    <tr>\n",
       "      <th>2</th>\n",
       "      <td>londON_StockhOlm</td>\n",
       "      <td>10065.0</td>\n",
       "      <td>[24, 43, 87]</td>\n",
       "      <td>(British Airways. )</td>\n",
       "    </tr>\n",
       "    <tr>\n",
       "      <th>3</th>\n",
       "      <td>Budapest_PaRis</td>\n",
       "      <td>NaN</td>\n",
       "      <td>[13]</td>\n",
       "      <td>12. Air France</td>\n",
       "    </tr>\n",
       "    <tr>\n",
       "      <th>4</th>\n",
       "      <td>Brussels_londOn</td>\n",
       "      <td>10085.0</td>\n",
       "      <td>[67, 32]</td>\n",
       "      <td>\"Swiss Air\"</td>\n",
       "    </tr>\n",
       "  </tbody>\n",
       "</table>\n",
       "</div>"
      ],
      "text/plain": [
       "            From_To  FlightNumber  RecentDelays              Airline\n",
       "0      LoNDon_paris       10045.0      [23, 47]               KLM(!)\n",
       "1      MAdrid_miLAN           NaN            []    <Air France> (12)\n",
       "2  londON_StockhOlm       10065.0  [24, 43, 87]  (British Airways. )\n",
       "3    Budapest_PaRis           NaN          [13]       12. Air France\n",
       "4   Brussels_londOn       10085.0      [67, 32]          \"Swiss Air\""
      ]
     },
     "execution_count": 247,
     "metadata": {},
     "output_type": "execute_result"
    }
   ],
   "source": [
    "df = pd.DataFrame({'From_To': ['LoNDon_paris', 'MAdrid_miLAN', 'londON_StockhOlm', \n",
    "                               'Budapest_PaRis', 'Brussels_londOn'],\n",
    "              'FlightNumber': [10045, np.nan, 10065, np.nan, 10085],\n",
    "              'RecentDelays': [[23, 47], [], [24, 43, 87], [13], [67, 32]],\n",
    "                   'Airline': ['KLM(!)', '<Air France> (12)', '(British Airways. )', \n",
    "                               '12. Air France', '\"Swiss Air\"']})\n",
    "df"
   ]
  },
  {
   "cell_type": "markdown",
   "id": "ea875d4e",
   "metadata": {},
   "source": [
    "**30.**  **FlightNumber**列中的某些值缺失（它们是NaN）。这些数字是有规律的，即每行增加 10，因此`NaN`需要放置 10055 和 10075。修改`df`以填充这些缺失的数字并使该列成为整数列（而不是浮点列）"
   ]
  },
  {
   "cell_type": "code",
   "execution_count": 248,
   "id": "d91f6aeb",
   "metadata": {},
   "outputs": [],
   "source": [
    "# 线性填充\n",
    "df['FlightNumber'] = df['FlightNumber'].interpolate().astype('int')"
   ]
  },
  {
   "cell_type": "markdown",
   "id": "b641ea62",
   "metadata": {},
   "source": [
    "**31.** **From_To**列作为两个单独的列会更好！拆分下划线分隔符`_`前后的每个字符串. 将其拆分成两列，存放在一个名为“temp”的临时 DataFrame，将列名 'From' 和 'To' 分配给这个临时DataFrame."
   ]
  },
  {
   "cell_type": "code",
   "execution_count": 249,
   "id": "c150c158",
   "metadata": {},
   "outputs": [
    {
     "data": {
      "text/html": [
       "<div>\n",
       "<style scoped>\n",
       "    .dataframe tbody tr th:only-of-type {\n",
       "        vertical-align: middle;\n",
       "    }\n",
       "\n",
       "    .dataframe tbody tr th {\n",
       "        vertical-align: top;\n",
       "    }\n",
       "\n",
       "    .dataframe thead th {\n",
       "        text-align: right;\n",
       "    }\n",
       "</style>\n",
       "<table border=\"1\" class=\"dataframe\">\n",
       "  <thead>\n",
       "    <tr style=\"text-align: right;\">\n",
       "      <th></th>\n",
       "      <th>From</th>\n",
       "      <th>To</th>\n",
       "    </tr>\n",
       "  </thead>\n",
       "  <tbody>\n",
       "    <tr>\n",
       "      <th>0</th>\n",
       "      <td>LoNDon</td>\n",
       "      <td>paris</td>\n",
       "    </tr>\n",
       "    <tr>\n",
       "      <th>1</th>\n",
       "      <td>MAdrid</td>\n",
       "      <td>miLAN</td>\n",
       "    </tr>\n",
       "    <tr>\n",
       "      <th>2</th>\n",
       "      <td>londON</td>\n",
       "      <td>StockhOlm</td>\n",
       "    </tr>\n",
       "    <tr>\n",
       "      <th>3</th>\n",
       "      <td>Budapest</td>\n",
       "      <td>PaRis</td>\n",
       "    </tr>\n",
       "    <tr>\n",
       "      <th>4</th>\n",
       "      <td>Brussels</td>\n",
       "      <td>londOn</td>\n",
       "    </tr>\n",
       "  </tbody>\n",
       "</table>\n",
       "</div>"
      ],
      "text/plain": [
       "       From         To\n",
       "0    LoNDon      paris\n",
       "1    MAdrid      miLAN\n",
       "2    londON  StockhOlm\n",
       "3  Budapest      PaRis\n",
       "4  Brussels     londOn"
      ]
     },
     "execution_count": 249,
     "metadata": {},
     "output_type": "execute_result"
    }
   ],
   "source": [
    "tmp = pd.DataFrame(df['From_To'].str.split('_').tolist(), columns=['From', 'To'])\n",
    "tmp"
   ]
  },
  {
   "cell_type": "markdown",
   "id": "e9ca8783",
   "metadata": {},
   "source": [
    "**32.** 注意城市名称的大小写是混合在一起的。标准化字符串，以便只有第一个字母是大写的（例如“londON”应该变成“London”。）"
   ]
  },
  {
   "cell_type": "code",
   "execution_count": 250,
   "id": "cbf60f2f",
   "metadata": {},
   "outputs": [],
   "source": [
    "tmp = tmp.apply(lambda x: x.str.title(), axis=0)"
   ]
  },
  {
   "cell_type": "markdown",
   "id": "375733fc",
   "metadata": {},
   "source": [
    "**33.** 将`From_To`列从`df`中删去，将`temp`处理好的数据合并到`df`中"
   ]
  },
  {
   "cell_type": "code",
   "execution_count": 251,
   "id": "ffd413e5",
   "metadata": {},
   "outputs": [
    {
     "data": {
      "text/html": [
       "<div>\n",
       "<style scoped>\n",
       "    .dataframe tbody tr th:only-of-type {\n",
       "        vertical-align: middle;\n",
       "    }\n",
       "\n",
       "    .dataframe tbody tr th {\n",
       "        vertical-align: top;\n",
       "    }\n",
       "\n",
       "    .dataframe thead th {\n",
       "        text-align: right;\n",
       "    }\n",
       "</style>\n",
       "<table border=\"1\" class=\"dataframe\">\n",
       "  <thead>\n",
       "    <tr style=\"text-align: right;\">\n",
       "      <th></th>\n",
       "      <th>From</th>\n",
       "      <th>To</th>\n",
       "      <th>FlightNumber</th>\n",
       "      <th>RecentDelays</th>\n",
       "      <th>Airline</th>\n",
       "    </tr>\n",
       "  </thead>\n",
       "  <tbody>\n",
       "    <tr>\n",
       "      <th>0</th>\n",
       "      <td>London</td>\n",
       "      <td>Paris</td>\n",
       "      <td>10045</td>\n",
       "      <td>[23, 47]</td>\n",
       "      <td>KLM(!)</td>\n",
       "    </tr>\n",
       "    <tr>\n",
       "      <th>1</th>\n",
       "      <td>Madrid</td>\n",
       "      <td>Milan</td>\n",
       "      <td>10055</td>\n",
       "      <td>[]</td>\n",
       "      <td>&lt;Air France&gt; (12)</td>\n",
       "    </tr>\n",
       "    <tr>\n",
       "      <th>2</th>\n",
       "      <td>London</td>\n",
       "      <td>Stockholm</td>\n",
       "      <td>10065</td>\n",
       "      <td>[24, 43, 87]</td>\n",
       "      <td>(British Airways. )</td>\n",
       "    </tr>\n",
       "    <tr>\n",
       "      <th>3</th>\n",
       "      <td>Budapest</td>\n",
       "      <td>Paris</td>\n",
       "      <td>10075</td>\n",
       "      <td>[13]</td>\n",
       "      <td>12. Air France</td>\n",
       "    </tr>\n",
       "    <tr>\n",
       "      <th>4</th>\n",
       "      <td>Brussels</td>\n",
       "      <td>London</td>\n",
       "      <td>10085</td>\n",
       "      <td>[67, 32]</td>\n",
       "      <td>\"Swiss Air\"</td>\n",
       "    </tr>\n",
       "  </tbody>\n",
       "</table>\n",
       "</div>"
      ],
      "text/plain": [
       "       From         To  FlightNumber  RecentDelays              Airline\n",
       "0    London      Paris         10045      [23, 47]               KLM(!)\n",
       "1    Madrid      Milan         10055            []    <Air France> (12)\n",
       "2    London  Stockholm         10065  [24, 43, 87]  (British Airways. )\n",
       "3  Budapest      Paris         10075          [13]       12. Air France\n",
       "4  Brussels     London         10085      [67, 32]          \"Swiss Air\""
      ]
     },
     "execution_count": 251,
     "metadata": {},
     "output_type": "execute_result"
    }
   ],
   "source": [
    "df.drop(columns=['From_To'], inplace=True)\n",
    "df = pd.concat([tmp, df], axis=1)\n",
    "df"
   ]
  },
  {
   "cell_type": "markdown",
   "id": "d2431ee6",
   "metadata": {},
   "source": [
    "**34.** 在`AirLine`列中，您可以看到航空公司名称周围出现了一些额外的符号。只提取航空公司名称。例如'(British Airways. )'应该变成'British Airways'."
   ]
  },
  {
   "cell_type": "code",
   "execution_count": 252,
   "id": "fbcc27ec",
   "metadata": {},
   "outputs": [
    {
     "data": {
      "text/html": [
       "<div>\n",
       "<style scoped>\n",
       "    .dataframe tbody tr th:only-of-type {\n",
       "        vertical-align: middle;\n",
       "    }\n",
       "\n",
       "    .dataframe tbody tr th {\n",
       "        vertical-align: top;\n",
       "    }\n",
       "\n",
       "    .dataframe thead th {\n",
       "        text-align: right;\n",
       "    }\n",
       "</style>\n",
       "<table border=\"1\" class=\"dataframe\">\n",
       "  <thead>\n",
       "    <tr style=\"text-align: right;\">\n",
       "      <th></th>\n",
       "      <th>From</th>\n",
       "      <th>To</th>\n",
       "      <th>FlightNumber</th>\n",
       "      <th>RecentDelays</th>\n",
       "      <th>Airline</th>\n",
       "    </tr>\n",
       "  </thead>\n",
       "  <tbody>\n",
       "    <tr>\n",
       "      <th>0</th>\n",
       "      <td>London</td>\n",
       "      <td>Paris</td>\n",
       "      <td>10045</td>\n",
       "      <td>[23, 47]</td>\n",
       "      <td>KLM</td>\n",
       "    </tr>\n",
       "    <tr>\n",
       "      <th>1</th>\n",
       "      <td>Madrid</td>\n",
       "      <td>Milan</td>\n",
       "      <td>10055</td>\n",
       "      <td>[]</td>\n",
       "      <td>Air France</td>\n",
       "    </tr>\n",
       "    <tr>\n",
       "      <th>2</th>\n",
       "      <td>London</td>\n",
       "      <td>Stockholm</td>\n",
       "      <td>10065</td>\n",
       "      <td>[24, 43, 87]</td>\n",
       "      <td>British Airways</td>\n",
       "    </tr>\n",
       "    <tr>\n",
       "      <th>3</th>\n",
       "      <td>Budapest</td>\n",
       "      <td>Paris</td>\n",
       "      <td>10075</td>\n",
       "      <td>[13]</td>\n",
       "      <td>Air France</td>\n",
       "    </tr>\n",
       "    <tr>\n",
       "      <th>4</th>\n",
       "      <td>Brussels</td>\n",
       "      <td>London</td>\n",
       "      <td>10085</td>\n",
       "      <td>[67, 32]</td>\n",
       "      <td>Swiss Air</td>\n",
       "    </tr>\n",
       "  </tbody>\n",
       "</table>\n",
       "</div>"
      ],
      "text/plain": [
       "       From         To  FlightNumber  RecentDelays          Airline\n",
       "0    London      Paris         10045      [23, 47]              KLM\n",
       "1    Madrid      Milan         10055            []       Air France\n",
       "2    London  Stockholm         10065  [24, 43, 87]  British Airways\n",
       "3  Budapest      Paris         10075          [13]       Air France\n",
       "4  Brussels     London         10085      [67, 32]        Swiss Air"
      ]
     },
     "execution_count": 252,
     "metadata": {},
     "output_type": "execute_result"
    }
   ],
   "source": [
    "df['Airline'] = df['Airline'].str.replace('[^A-Za-z\\s]', '', regex=True).str.strip()\n",
    "df"
   ]
  },
  {
   "cell_type": "markdown",
   "id": "a70ba39a",
   "metadata": {},
   "source": [
    "**35.** 在 RecentDelays 列中，值已作为列表输入到 DataFrame 中。我们希望每个第一个值在它自己的列中，每个第二个值在它自己的列中，依此类str果没有第 N 个值，则该值应为 NaN。\n",
    "\n",
    "将 Series 列表展开为名为 的 DataFrame delays，重命名列delay_1，delay_2等等，并将不需要的 RecentDelays 列替换df为delays"
   ]
  },
  {
   "cell_type": "code",
   "execution_count": 253,
   "id": "673996ac",
   "metadata": {},
   "outputs": [],
   "source": [
    "delays = pd.DataFrame(df[\"RecentDelays\"].tolist())\n",
    "delays.columns = ['delays_{}'.format(i + 1) for i in range(len(delays.columns))]\n",
    "df.drop(columns=['RecentDelays'], inplace=True)\n",
    "df = pd.concat([df, delays], axis=1)"
   ]
  }
 ],
 "metadata": {
  "kernelspec": {
   "display_name": "PyCharm (MLProject)",
   "language": "python",
   "name": "pycharm-59c4cb11"
  },
  "language_info": {
   "codemirror_mode": {
    "name": "ipython",
    "version": 3
   },
   "file_extension": ".py",
   "mimetype": "text/x-python",
   "name": "python",
   "nbconvert_exporter": "python",
   "pygments_lexer": "ipython3",
   "version": "3.7.11"
  },
  "latex_envs": {
   "LaTeX_envs_menu_present": true,
   "autoclose": false,
   "autocomplete": true,
   "bibliofile": "biblio.bib",
   "cite_by": "apalike",
   "current_citInitial": 1,
   "eqLabelWithNumbers": true,
   "eqNumInitial": 1,
   "hotkeys": {
    "equation": "Ctrl-E",
    "itemize": "Ctrl-I"
   },
   "labels_anchors": false,
   "latex_user_defs": false,
   "report_style_numbering": false,
   "user_envs_cfg": false
  }
 },
 "nbformat": 4,
 "nbformat_minor": 5
}
